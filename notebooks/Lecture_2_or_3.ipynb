{
 "cells": [
  {
   "cell_type": "markdown",
   "id": "d9dac8e2-b6ec-4333-80e2-0e1fe4e6e8c1",
   "metadata": {
    "jp-MarkdownHeadingCollapsed": true,
    "slideshow": {
     "slide_type": "slide"
    },
    "tags": []
   },
   "source": [
    "# Large language models and deep learning for computer vision and time series: From academia to industry\n",
    "## Transformers!!! (more cool) things to learn and do\n",
    "\n",
    "<center>\n",
    "<img src=\"./figs/Starscream_by_Peccadillos.png\" style=\"width: 450px;\">\n",
    "</center>\n",
    "\n",
    "### Felipe Ferreira de Freitas\n",
    "_______\n",
    "\n",
    "felipe.defreitas@edfenergy.com\n",
    "\n",
    "[my github](https://github.com/FFFreitas)"
   ]
  },
  {
   "cell_type": "markdown",
   "id": "e16ca792-5daf-4cc6-9c73-6320de4d353a",
   "metadata": {
    "slideshow": {
     "slide_type": "slide"
    },
    "tags": []
   },
   "source": [
    "# But first, how did we get here?\n",
    "\n",
    "Ofcourse, to tell the whole history of machine learning and natural language processing (NLP) would take quite some time. But, we can point towards some pivotal points in the field, starting from the work of Michael I. Jordan in 1986 [Serial Order: A Parallel Distributed Processing Approach ](https://cseweb.ucsd.edu/~gary/PAPER-SUGGESTIONS/Jordan-TR-8604-OCRed.pdf), where it was trained a tiny the network with only a handful of neurons to predict simple sequences of two symbols 1010101001 or ABABBAB\n",
    "\n",
    "<table><tr>\n",
    "    <td><img src=\"./figs/rnn_states.png\" style=\"width: 350px;\"><figcaption> <font size=\"3\">Michael I. Jordan</figcaption></td>\n",
    "    <td><img src=\"./figs/first_rnn.png\" style=\"width: 350px;\"><figcaption> <font size=\"3\">Michael I. Jordan</figcaption></td> \n",
    "</tr></table>\n",
    "\n",
    "\n",
    "The key idea was to **\"mimic\" how we \"think\" our mind works** - where we have an ongoing \"state of mind\" in which we use to decide next actions to be taken. This was similar to give memory to the neural networks. "
   ]
  },
  {
   "cell_type": "markdown",
   "id": "2bfc46cd-f5a7-4691-a1bb-a0ce7926c6d9",
   "metadata": {
    "slideshow": {
     "slide_type": "subslide"
    },
    "tags": []
   },
   "source": [
    "# how did we get here?\n",
    "\n",
    "Another good idea was how the \"training\" method was defined:\n",
    "\n",
    "<center>\n",
    "<img src=\"./figs/training_rnn.png\" style=\"width: 650px;\">\n",
    "</center>\n",
    "\n",
    "\n",
    "where the learning signal (loss) is the difference between the network’s guess of the next symbol and the real data. And not only that, after training the NN Michael I. Jordan, set up experiments in which the network would produce new sequences using the outputs from previous sequences.\n",
    "\n",
    "The NN would initially generate some mistakes, but such mistakes would go away after the NN was trained for a bit more time. "
   ]
  },
  {
   "cell_type": "markdown",
   "id": "c2bf4c9e-7d19-4e94-90fd-3c6189c4fe80",
   "metadata": {
    "slideshow": {
     "slide_type": "slide"
    },
    "tags": []
   },
   "source": [
    "## The RNN was also trained in spatial data patterns:\n",
    "\n",
    "The learned squences where not only memorized, they where be generilized\n",
    "\n",
    "<table><tr>\n",
    "    <td><img src=\"./figs/square_training.png\" style=\"width: 650px;\"><figcaption> <font size=\"3\">Michael I. Jordan</figcaption></td>\n",
    "    <td><img src=\"./figs/square_training2.png\" style=\"width: 650px;\"><figcaption> <font size=\"3\">Michael I. Jordan</figcaption></td> \n",
    "</tr></table>\n",
    "\n",
    "in his words -> \"An important fact about the learned trajectories is that they tend to influence points nearby in the state space. Indeed, the learned trajectories tend to be **attractors**.\""
   ]
  },
  {
   "cell_type": "markdown",
   "id": "dd85ee91-6ebc-44c4-8a46-e4b78e902044",
   "metadata": {
    "slideshow": {
     "slide_type": "slide"
    },
    "tags": []
   },
   "source": [
    "## 5 years latter\n",
    "\n",
    "Jeffrey Elman, picked up on Jordan’s research and did this same thing with a slightly bigger network (~50 neurons) and trained the network on language:\n",
    "\n",
    "- \"The sequence was composed of six different 6-bit binary vectors. Although the vectors were not derived from real speech, one might think of them as representing speech sounds, with the six dimensions of the vector corresponding to articulatory features.\"\n",
    "\n",
    "<center>\n",
    "<img src=\"./figs/Elman_dataset.png\" style=\"width: 650px;\">\n",
    "</center>\n",
    "\n",
    "- The sequence was semi-random; consonants occurred randomly, but following a given consonant, the identity and number of following vowels was regular"
   ]
  },
  {
   "cell_type": "markdown",
   "id": "f84e7f0d-97c3-4297-a17c-188d99ffa9ba",
   "metadata": {
    "slideshow": {
     "slide_type": "slide"
    },
    "tags": []
   },
   "source": [
    "## FINDING STRUCTURE IN TIME\n",
    "<table><tr>\n",
    "    <td><img src=\"./figs/Elman_loss1.png\" style=\"width: 450px;\"><figcaption> <font size=\"3\">Jeffrey Elman</figcaption></td>\n",
    "    <td><img src=\"./figs/Elman_dataset.png\" style=\"width: 450px;\"><figcaption> <font size=\"3\">Jeffrey Elman</figcaption></td> \n",
    "</tr></table>\n",
    "\n",
    "Elman noted that Error on predicting the first bit was consistently lower than error for the fourth bit, but why? \n",
    "- The first bit represents the Consonant feature.\n",
    "- The fourth bit corresponds to the High feature.\n",
    "- While all consonants share the same value for the Consonant feature, they vary in terms of the High feature.\n",
    "- The network has acquired knowledge about the sequential relationship between consonants and vowels, leading to low error rates on vowels.\n",
    "- Additionally, the network has learned the frequency of vowels following each consonant."
   ]
  },
  {
   "cell_type": "markdown",
   "id": "1d5ba2e6-9644-4be9-8bb6-87ccd7f33b77",
   "metadata": {
    "slideshow": {
     "slide_type": "slide"
    },
    "tags": []
   },
   "source": [
    "## DISCOVERING THE NOTION “WORD”\n",
    "\n",
    "As Elman pointed out $\\rightarrow$ \"... more extended sequential dependencies may not necessarily be more difficult to learn. If the dependencies are structured, that structure may make learning easier and not harder.\"\n",
    "\n",
    "So he designed a similar task, but now the sequences would form a real words. The letters are presented in sequence, one at a time, with no breaks between the letters in a word, and no breaks between the words of different sentences. \n",
    "\n",
    "<table><tr>\n",
    "    <td><img src=\"./figs/Elman_loss2.png\" style=\"width: 450px;\"><figcaption> <font size=\"3\">Jeffrey Elman</figcaption></td>\n",
    "    <td><img src=\"./figs/Elman_dataset2.png\" style=\"width: 450px;\"><figcaption> <font size=\"3\">Jeffrey Elman</figcaption></td> \n",
    "</tr></table>\n",
    "\n",
    "“at the onset of a new word the chance of error is high, as more of the word is received the error rate declines, since the sequence is increasingly predictable…” at the end of a word the error jumps up again, following the same pattern.\n",
    "\n"
   ]
  },
  {
   "cell_type": "markdown",
   "id": "399580ee-d1c2-456e-864c-508ce82b15b5",
   "metadata": {
    "slideshow": {
     "slide_type": "slide"
    },
    "tags": []
   },
   "source": [
    "## DISCOVERING LEXICAL CLASSES FROM WORD ORDER\n",
    "\n",
    "Elman continue his experiments and proposed an interesting question of whether a network can learn any aspects of that underlying abstract structure, like if the network could learn semantic structures encoded in language?\n",
    "\n",
    "To naswer this question he deivised a new biger network with 362 neurons (150 of them acting as context units where learned patterns could be stored). And he created more data, 10,000 two & three word sentences. \n",
    "\n",
    "\n",
    "To understand what his network was doing he probed the internal neurons in the context unit as it was processing words. (which took the form of 150 bit vectors), and then he plotted them and compared the spatial arrangement. \n",
    "\n",
    "\n",
    "<table><tr>\n",
    "    <td><img src=\"./figs/Elman_word_dist.png\" style=\"width: 550px;\"><figcaption> <font size=\"3\">Jeffrey Elman</figcaption></td>\n",
    "</tr></table>\n",
    "\n",
    "\n",
    "The network would spatially cluster words based on meaning, for example it separated nouns which are inanimate (car, rock) and animate (girl, boy), and within these groups he saw subcategorization, for example the animate objects were broken down into “human” and “non human” clusters, and the “non human” cluster broke down into “large animals” and “small animals”...inanimate objects were broken down into “breakable” and “edible”..."
   ]
  },
  {
   "cell_type": "markdown",
   "id": "6f6f3a31-a6c8-4b92-a0e9-da0995fe4d36",
   "metadata": {
    "slideshow": {
     "slide_type": "subslide"
    },
    "tags": []
   },
   "source": [
    "## DISCOVERING LEXICAL CLASSES FROM WORD ORDER\n",
    "\n",
    "Another insight Elman had was the representation of words as vectors  in high dimensional space, then sequences of words could be thought of as a pathway in this space, and similar words would have similar pathways\n",
    "\n",
    "<table><tr>\n",
    "    <td><img src=\"./figs/embedding.jpeg\" style=\"width: 550px;\"><figcaption> <font size=\"3\"></figcaption></td>\n",
    "</tr></table>\n",
    "\n",
    "[Word embeddings](https://www.tensorflow.org/text/tutorials/word_embeddings)"
   ]
  },
  {
   "cell_type": "markdown",
   "id": "6f8fce55-5dfc-445a-8d38-bc024b0c0f6f",
   "metadata": {
    "slideshow": {
     "slide_type": "slide"
    },
    "tags": []
   },
   "source": [
    "# Following paths and pay attention\n",
    "\n",
    "It wasn’t until 2011, when Ilya  Sutskever, James Martens and Geoffrey Hinton pushed the idea of wrod vectors and high dimensional pathways ahead on a much larger model and made a bold observation in terms of the connection between prediction and intelligence.\n",
    "\n",
    "In the paper [Generating Text with Recurrent Neural Networks](http://www.cs.toronto.edu/~bonner/courses/2014s/csc321/readings/sutskever2011icml.pdf) they demonstrate the use of large RNNs (trained with the new Hessian-Free optimizer) in the task of predicting the next character in a stream of text.\n",
    "\n",
    "An intersting aplication for the solution to this task was a better improve in the compression of text files, and in their words $\\rightarrow$ \"More speculatively, achieving the asymptotic limit in text compression requires an understanding that is “equivalent to intelligence” (Hutter, 2006).\"\n",
    "\n",
    "This was in line with one theory that biological brains, at their core, are prediction machines.\n",
    "\n",
    "- If intelligence is the ability to learn.\n",
    "- This views learning as the compression of experience into a predictive model of the world. \n"
   ]
  },
  {
   "cell_type": "markdown",
   "id": "ce29d563-19fd-41b4-973c-6b564e9e087a",
   "metadata": {
    "slideshow": {
     "slide_type": "subslide"
    },
    "tags": []
   },
   "source": [
    "# Following paths and pay attention\n",
    "\n",
    "They trained a much larger RNN, which they refereed as Multiplicative (or \"gated\") Recurrent Neural Network. This new “MRNN” architecture uses multiplicative connections to allow the current input character to determine the hidden-to-hidden weight matrix.\n",
    "\n",
    "<table><tr>\n",
    "    <td><img src=\"./figs/MRNN_arch.png\" style=\"width: 550px;\"><figcaption> <font size=\"3\">Ilya  Sutskever, James Martens and Geoffrey Hinton</figcaption></td>\n",
    "</tr></table>\n",
    "\n",
    "\n",
    "\"We trained MRNNs on over a hundred of megabytes of text for several days using 8 Graphics Processing Units in parallel to perform significantly better than one of the best word-agnostic single character-level language models: the sequence memoizer\" (very likely training in a gt9800 series)"
   ]
  },
  {
   "cell_type": "markdown",
   "id": "a0a7c3e4",
   "metadata": {
    "slideshow": {
     "slide_type": "subslide"
    }
   },
   "source": [
    "\n",
    "To generate phrases they first feed in the phrase \"The meaning of life is\", to which it continues:\n",
    "\n",
    "_**The meaning of life is the tradition of the ancient human reproduction:** it is less favorable to the good boy for when to remove her bigger. In the show’s agreement unanimously resurfaced. The wild pasteured with consistent street forests were incorporated by the 15th century BE. In 1996 the primary rapford undergoes an effort that the reserve conditioning, written into Jewish cities, sleepers to incorporate the .St Eurasia that activates the population. Mar??a Nationale, Kelli, Zedlat-Dukastoe, Florendon, Ptu’s thought is. To adapt in most parts of North America, the dynamic fairy Dan please believes, the free speech are much related to the_\n",
    "\n",
    "To their surprise the trained MRNN exhibited a significant amount of interesting and high-level linguistic structure. However, beyond few words it would qhickly fell into a \"non-sense\" pathway. It was clear that some sort of learning was happening, but they were hitting the capacity of the network to maintain coherent context over long sequences."
   ]
  },
  {
   "cell_type": "markdown",
   "id": "e30f560c-1327-4018-aece-cc8a2519c45c",
   "metadata": {
    "slideshow": {
     "slide_type": "slide"
    },
    "tags": []
   },
   "source": [
    "# Following paths and pay attention:\n",
    "## Uncover sentiments from words\n",
    "\n",
    "In 2017 when a team of researchers (Alec Radford,  Rafal Jozefowicz,  **Ilya Sutskever**, at a speculative lab called Open AI), and setup a larger recurrent network (an LSTM), and trained it on a massive set of 82 million amazon and IMDB reviews - this training process took a month. The largest model to date.\n",
    "\n",
    "<table><tr>\n",
    "    <td><img src=\"./figs/Sentiment_out1.png\" style=\"width: 450px;\"><figcaption> <font size=\"3\"></figcaption></td>\n",
    "    <td><img src=\"./figs/Sentiment_out2.png\" style=\"width: 450px;\"><figcaption> <font size=\"3\"></figcaption></td> \n",
    "</tr></table>\n",
    "\n",
    "\n",
    "\"...we discovered a single unit within the mLSTM that directly corresponds to sentiment.\""
   ]
  },
  {
   "cell_type": "markdown",
   "id": "7fe7f9ac-2fc2-4c8e-ba01-434f2a6525e7",
   "metadata": {
    "slideshow": {
     "slide_type": "subslide"
    },
    "tags": []
   },
   "source": [
    "# Following paths and pay attention\n",
    "## Uncover sentiments from words\n",
    "\n",
    "To show this network had a good internal model (or understanding) of sentiment, they had the network generate text, and while doing so they forced the sentiment neuron to be a positive vs negative value, and it spit out positive and negative reviews which were entirely artificial, but indistinguishable from a human review\n",
    "\n",
    "<center>\n",
    "<img src=\"./figs/Sentiments_out3.png\" style=\"width: 750px;\">\n",
    "</center>\n",
    "\n",
    "**But simply going bigger with more data was hitting a practical limit at the time**\n",
    "\n",
    "there was still a key problem with RNN’s, which is that they processed data serially, one word at a time. And all of the context had to be squeezed into the fixed internal memory, i.e. the RNNs were strugling to connect concepts the longer the context was.\n",
    "\n"
   ]
  },
  {
   "cell_type": "markdown",
   "id": "713932df-0c18-4973-ba86-92da204e1a51",
   "metadata": {
    "slideshow": {
     "slide_type": "slide"
    },
    "tags": []
   },
   "source": [
    "# Following paths and pay attention\n",
    "\n",
    "An alternative to RNN’s tried to tackle this problem by simply processing the entire input sequence of text in parallel by passing it through a very wide, fully connected, network ->  [The Sparsely-Gated Mixture-of-experts layer](https://arxiv.org/pdf/1701.06538.pdf).\n",
    "\n",
    "<center>\n",
    "<img src=\"./figs/SGMOE_arch.png\" style=\"width: 750px;\"><figcaption> <font size=\"3\"> Noam Shazeer, et. al.</figcaption>\n",
    "</center>\n",
    "\n",
    "\n",
    "But this was impractical, since it requires many layers of deppth in order to compemsate the lack memory, since it builds up the context of the sentence across multiple layers. This approach is tempting but the resulting network becomes impossible to train. "
   ]
  },
  {
   "cell_type": "markdown",
   "id": "69fac7f1-7dbd-43bb-b201-5c33456ca29a",
   "metadata": {
    "slideshow": {
     "slide_type": "slide"
    },
    "tags": []
   },
   "source": [
    "# The rise of transfromers\n",
    "\n",
    "In 2017 a groundbreaking paper focused on the problem of translating between languages, one of the key ideas on this paper was a solution to the memory constraint.\n",
    "\n",
    "The self-attention mechanism:\n",
    "\n",
    "<center>\n",
    "<img src=\"./figs/self_attention_translate.gif\" style=\"width: 650px;\"><figcaption> <font size=\"3\"></figcaption>\n",
    "<img src=\"./figs/self_atten_example.png\" style=\"width: 650px;\"><figcaption> <font size=\"3\"></figcaption>\n",
    "</center>\n",
    "\n",
    "[seq2seq](https://google.github.io/seq2seq/)"
   ]
  },
  {
   "cell_type": "markdown",
   "id": "fe1bc603-57fd-469d-8e88-60a6e62971bc",
   "metadata": {
    "slideshow": {
     "slide_type": "subslide"
    },
    "tags": []
   },
   "source": [
    "# The rise of transfromers\n",
    "\n",
    "\n",
    "<center>\n",
    "<img src=\"./figs/Attention_head.png\" style=\"width: 650px;\"><figcaption> <font size=\"3\"></figcaption>\n",
    "</center>\n",
    "\n",
    "\n",
    "These self attention dynamical layers work by allowing every word in the input to look at & compare itself to every other word, and absorb the meaning from the most relevant words to better capture the context of its intended use in that sentence, this is done by a set of smaller neural networks refereed as attention heads."
   ]
  },
  {
   "cell_type": "markdown",
   "id": "0b762dd0-3a6c-422a-9abe-0c1ee54c67b5",
   "metadata": {
    "slideshow": {
     "slide_type": "slide"
    },
    "tags": []
   },
   "source": [
    "# The rise of transfromers\n",
    "## Self-Attention Process\n",
    "\n",
    "Take as example the followng phrases:\n",
    "\n",
    "- I put on a **light** jacket. \n",
    "- [50256, 40, 1234, 319, 257, **1657**, 15224, 13]\n",
    "  \n",
    "- The room was filled with **light**.\n",
    "- [50256,   464,  2119,   373,  5901,   351,  **1657**,    13]\n",
    "\n",
    "- She had a **light** workload that day.\n",
    "- [3347,   550,   257,  **1657**, 26211,   326,  1110,    13]\n",
    "\n",
    "We see that the value for the word light in the vector is the same in all phrases, this initial token set is just a lookup table. It is only in the next step that the transformers allow the sorround information to be passed around each embeding vector. \n",
    "\n",
    "---\n",
    "obs: The embeding matrix for a gpt-2 model has 50257x768 (vocab x embeding size), it also have a positional encoding matirx of 1024 x 768, which is a trainable parameter."
   ]
  },
  {
   "cell_type": "markdown",
   "id": "aabd9162-c542-49dc-95e2-6f984450e6be",
   "metadata": {
    "slideshow": {
     "slide_type": "subslide"
    },
    "tags": []
   },
   "source": [
    "# The rise of transfromers\n",
    "## Self-Attention Process\n",
    "\n",
    "In our case the word **light** can be see as different vectors in the \"concept\" space, where the directions of these vectors points to the meanings of the word **light** in each context applied.\n",
    "\n",
    "<center>\n",
    "<img src=\"./figs/embedings.png\" style=\"width: 650px;\"><figcaption> <font size=\"3\"></figcaption>\n",
    "</center>\n",
    "\n",
    "The main gist of the attention mechanism is to change the embedings vectors to move in the \"concept\" space of each word and adjust the direction of each vector (i.e. its meaning) to be more aligned to the context as a whole, hence the name **transformers**.  "
   ]
  },
  {
   "cell_type": "markdown",
   "id": "6e137939-7ce4-400e-beca-2a92788ee8fa",
   "metadata": {
    "slideshow": {
     "slide_type": "slide"
    },
    "tags": []
   },
   "source": [
    "# Self-Attention Process\n",
    "\n",
    "As initial input we have the embedings of each token from the phrase \"I put on a light jacket.\", these embendings only encoding the meaning of each token and their position and nothing else.\n",
    "\n",
    "the goal is to have a new refine set of embeding vectors which hopefully will ingest the meaning of the words around in a more broad context and continue the text without fell into non-sense. \n",
    "\n",
    "1) each tokens \"emits\" a **Q**uerry, **K**ey and **V**alue, these can be see as hidden representations of each token, and to allow the mechanism to model relevance, we let each word ask questions and receive answers.\n",
    "\n",
    "To make it easy to visualize it like we are trying to model the relationship between noums and adjectives, and in this case each noum is asking to all other words if there is an adjective in front of itself? and this question is encoded, by the matrix $W_q$, as our **Q**uerry. \n",
    "\n",
    "At the same time we also have another set of **K**eys, vectors encoded by the matrix $W_k$, to which we can interpret as the answers to the querries **Q**. \n",
    "\n",
    "When the question asked by a word matches the answer sent by another word, we will interpret this as the two words having high relevance for each other, in machine learning lingo is said that the embedins of a given token \"attend\" to a respective one.\n",
    "\n",
    "<center>\n",
    "<img src=\"./figs/att_step2.png\" style=\"width: 450px;\"><figcaption> <font size=\"3\"></figcaption>\n",
    "</center>\n",
    "\n",
    "---\n",
    "[check here](https://huggingface.co/spaces/exbert-project/exbert)"
   ]
  },
  {
   "cell_type": "markdown",
   "id": "330411e7-4c53-49c2-8a24-8dc6e65bdc46",
   "metadata": {
    "slideshow": {
     "slide_type": "subslide"
    },
    "tags": []
   },
   "source": [
    "# Self-Attention Process\n",
    "\n",
    "2) Computing the Attention Matrix: We take the dot product of all the N query vectors with all the N key vectors. Since the dot product of two vectors (no matter how large) is just a number, the result is an NxN matrix A, whose each element $A_{ij}$ is the dot product of the i-th query vector with the j-th key vector.\n",
    "\n",
    "This process is neatly summarized by the equation:\n",
    "$$\n",
    "Attention(Q,K,V) = softmax\\left(\\frac{Q.K^{T}}{\\sqrt{d_{k}}}\\right).V\n",
    "$$\n",
    "\n",
    "The dot product between Keys and Querries vectors can yield quite large, or small, numbers, we can interprete this as the relevance level representation of each word. To have numerical estability and still keep the relevance level as we intend, we have to \"normalize\" these values. Thus the softmax function, but before we apply the softmax function, we need to make sure that future words do not affect the attention matrices for the past words, since this would renders the task of predicting next word useless. To do this we apply masking (setting to $-\\infty$) all inputs that gives this problem (upper diagonal elements). \n",
    "\n",
    "\n",
    "Points to note:\n",
    "\n",
    "- In the vanila self-attention mechanism, each word (token) interacts with every other, there is no temporal ordering in the inputs.\n",
    "- The computational complexity of calculating the attention matrix is $N^2$. Hence this \"arms\" race for bigger hardware and the increasing in the number of tokens that can be processed by the model.\n",
    "-  the ‘self’ in self-attention refers to the fact that we also take the dot product of a given word’s query with its own key vector.\n"
   ]
  },
  {
   "cell_type": "markdown",
   "id": "ad936130-5dd0-49bd-94d7-cdfdfb17e428",
   "metadata": {
    "slideshow": {
     "slide_type": "subslide"
    },
    "tags": []
   },
   "source": [
    "# Self-Attention Process\n",
    "\n",
    "3) Attend: We take the dot product of the normalized attention scores and the value vectors.\n",
    "\n",
    "$$\n",
    "softmax\\left(\\frac{Q.K^{T}}{\\sqrt{d_{k}}}\\right).V\n",
    "$$\n",
    "\n",
    "Since the value vector V are encoded for each word using a dense layer, the output of the attention mechanism has N vectors, the same as the number of input words. Finally, to obtain the output of the self attention layer, we transform the _Attention(Q,K,V)_ vector into the same size string as the input with a dense layer. These value vectors can be seen as a correction factor to the relavance of the predicted words, in essence is like a course predictions for the vectors of the next word. It can also see as a ranking system for the most lekely word in the sequence. \n",
    "\n",
    "During the training phase, the model would try to predict the next word of the sequence in a manner of first start with small squences of tokens and gradually increasing it\n",
    "\n",
    "- I -> ???\n",
    "- I put -> ???\n",
    "- I put on -> ???\n",
    "- I put on a -> ???\n",
    "- I put on a light -> ???\n",
    "\n",
    "Also at training time, the model would process larger batch sizes (512) vs. the batch size of one that evaluation uses.\n"
   ]
  },
  {
   "cell_type": "markdown",
   "id": "ee986ff8-0cae-4c92-bbb4-728f8e0d6199",
   "metadata": {
    "slideshow": {
     "slide_type": "slide"
    },
    "tags": []
   },
   "source": [
    "# There we have - The transformer model, Ladies and Gentlemen\n",
    "\n",
    "<center>\n",
    "<img src=\"./figs/transformer_model.png\" style=\"width: 350px;\"><figcaption> <font size=\"3\"></figcaption>\n",
    "</center>\n",
    "\n",
    "\n",
    "Ofcourse, there was quite a lot over-simplefications and I skipped to a lot of details, suxh as:\n",
    "\n",
    "- multi-head attention: Multi-head attention allows the model to jointly attend to information from different representation subspaces at different positions.\n",
    "\n",
    "$$\n",
    "MultiHead(Q,K,V) = Concat(head_1, ..., head_h)W^O\n",
    "$$\n",
    "\n",
    "$$\n",
    "head_i = Attention(QW^{Q}_{i},KW^{K}_{i},VW^{V}_{i})\n",
    "$$\n",
    "\n",
    "- Transformers use a lot of layer normalization, did not mentioned but it is used quite a lot in the architecture.\n",
    "- Did not mention temperature, but it is another component of the self-attention mechanism that helps the performance of the model"
   ]
  },
  {
   "cell_type": "markdown",
   "id": "52b06f9a-d02a-4fe2-8866-6555720532e3",
   "metadata": {
    "slideshow": {
     "slide_type": "slide"
    },
    "tags": []
   },
   "source": [
    "# From Transformers to Generative Pre-trained Transformers (GPT) and beyond\n",
    "\n",
    "The “attention is all you need” paper that gave birth to transformers, was still focused on the problem of translation trained in a supervised way.\n",
    "\n",
    "Meanwhile, Open AI saw the result and immediately tried this more powerful transformer architecture on the next word prediction problem at a larger scale not before possible.\n",
    "\n",
    "<center>\n",
    "<img src=\"./figs/GPT_1.png\" style=\"width: 650px;\"><figcaption> <font size=\"3\"></figcaption>\n",
    "</center>\n",
    "\n",
    "They split the training in two stages:\n",
    "1) learning a high-capacity language model on a large corpus of text.\n",
    "2) a fine-tuning stage, where we adapt the model to a discriminative task with labeled data.\n",
    "\n",
    "And the results found was nothing shorter than surprisingly, as most important:\n",
    "- Whem prompted with text segments it would continue with more coerent text -> [see by yourself](https://transformer.huggingface.co/doc/gpt)\n",
    "- It showed some capability in answering general questions. \n",
    "- It also exhibit zero-shot learning behaviour, the model was capable of answering questions not present in the training data. \n",
    "\n",
    "**Zero-shot Behaviors**: \"We’d like to better understand why language model pre-training of transformers is effective. A hypothesis is that the underlying generative model learns to perform many of the tasks we evaluate on in order to improve its language modeling...\""
   ]
  },
  {
   "cell_type": "markdown",
   "id": "04551ce4-865a-4ed1-a764-1c07903f8cb4",
   "metadata": {
    "slideshow": {
     "slide_type": "slide"
    },
    "tags": []
   },
   "source": [
    "# From Transformers to Generative Pre-trained Transformers (GPT) and beyond\n",
    "\n",
    "The success of GPT-1 gaves a boost on the incentive to build larger models and training in even bigger datasets, so OpenAI quickly follow with GPT-2 (~ 1.5 billions of parameters) and GPT-3 (175 billions of parameters).\n",
    "\n",
    "<table><tr>\n",
    "    <td><img src=\"./figs/In_context.png\" style=\"width: 650px;\"><figcaption> <font size=\"3\"></figcaption></td>\n",
    "    <td><img src=\"./figs/Gigamaru.png\" style=\"width: 650px;\"><figcaption> <font size=\"3\"></figcaption></td> \n",
    "</tr></table>\n",
    "\n",
    "\n",
    "GPT-3 showed an increase performance in all metrics tested (zero-shot, text comprehension, ...), but one capability really jumped out. Once training was complete you could still teach the network new things. This is also know as **in context learning** also called “zero-shot transfer”.\n",
    "\n",
    "\n",
    "\n",
    " "
   ]
  },
  {
   "cell_type": "markdown",
   "id": "a14c90d5-c8ad-4192-9cbf-ca7ca28c631a",
   "metadata": {
    "slideshow": {
     "slide_type": "slide"
    },
    "tags": []
   },
   "source": [
    "# Lets build a GPT-2 model "
   ]
  },
  {
   "cell_type": "code",
   "execution_count": 1,
   "id": "75ac8c68-cf15-43ae-9f7a-4d7cffe7943a",
   "metadata": {
    "slideshow": {
     "slide_type": ""
    },
    "tags": []
   },
   "outputs": [],
   "source": [
    "import torch\n",
    "import numpy as np\n",
    "import matplotlib.pyplot as plt\n",
    "\n",
    "from torch import nn\n",
    "from torch.optim import Adam\n",
    "\n",
    "from tqdm import tqdm\n",
    "\n",
    "from sklearn.metrics import confusion_matrix\n",
    "from sklearn.metrics import ConfusionMatrixDisplay"
   ]
  },
  {
   "cell_type": "code",
   "execution_count": 2,
   "id": "038a345f-3d30-4c4b-b7eb-d7c4b717a1bf",
   "metadata": {
    "slideshow": {
     "slide_type": ""
    },
    "tags": []
   },
   "outputs": [
    {
     "name": "stderr",
     "output_type": "stream",
     "text": [
      "2024-04-18 10:40:16.460544: I tensorflow/core/util/port.cc:110] oneDNN custom operations are on. You may see slightly different numerical results due to floating-point round-off errors from different computation orders. To turn them off, set the environment variable `TF_ENABLE_ONEDNN_OPTS=0`.\n",
      "2024-04-18 10:40:16.534527: I tensorflow/core/platform/cpu_feature_guard.cc:182] This TensorFlow binary is optimized to use available CPU instructions in performance-critical operations.\n",
      "To enable the following instructions: SSE4.1 SSE4.2 AVX AVX2 AVX512F AVX512_VNNI FMA, in other operations, rebuild TensorFlow with the appropriate compiler flags.\n"
     ]
    }
   ],
   "source": [
    "from transformers import GPT2Model, GPT2Tokenizer"
   ]
  },
  {
   "cell_type": "code",
   "execution_count": 3,
   "id": "b2a72e0e-1338-405d-bdb3-242aca1305dd",
   "metadata": {},
   "outputs": [],
   "source": [
    "import pandas as pd"
   ]
  },
  {
   "cell_type": "markdown",
   "id": "408f3c67-ca20-4b3b-a68f-f0b211efbfb4",
   "metadata": {
    "slideshow": {
     "slide_type": "slide"
    },
    "tags": []
   },
   "source": [
    "# Dataset and task\n",
    "\n",
    "For this example we are going to use the BBC news classification dataset, comprised of 2225 articles, each labeled under one of 5 categories: business, entertainment, politics, sport or tech.:\n",
    "- BBC News Train.csv - the training set of 1490 records\n",
    "- BBC News Test.csv - the test set of 736 records\n",
    "- BBC News Sample Solution.csv - a sample submission file in the correct format\n",
    "\n",
    "The task is quite simple: just classify if a given sentence belongs to one of the 5 categories:"
   ]
  },
  {
   "cell_type": "markdown",
   "id": "7ac645f9-ed5a-4607-b6f5-681d5ed147bb",
   "metadata": {
    "slideshow": {
     "slide_type": "slide"
    },
    "tags": []
   },
   "source": [
    "## Loading the model into a dataframe:"
   ]
  },
  {
   "cell_type": "code",
   "execution_count": 4,
   "id": "4463c3bf-55a4-4a90-b471-245bf775d074",
   "metadata": {},
   "outputs": [],
   "source": [
    "df = pd.read_csv(\"datasets/bbc_data/BBC News Train.csv\")"
   ]
  },
  {
   "cell_type": "markdown",
   "id": "ef8e918b-03b0-4399-be22-7c0d5438816d",
   "metadata": {},
   "source": [
    "### Checking the dataframe"
   ]
  },
  {
   "cell_type": "code",
   "execution_count": 5,
   "id": "605b707b-bc8d-46c3-88a9-cb7a87bd1bc8",
   "metadata": {
    "slideshow": {
     "slide_type": ""
    },
    "tags": []
   },
   "outputs": [
    {
     "data": {
      "text/html": [
       "<div>\n",
       "<style scoped>\n",
       "    .dataframe tbody tr th:only-of-type {\n",
       "        vertical-align: middle;\n",
       "    }\n",
       "\n",
       "    .dataframe tbody tr th {\n",
       "        vertical-align: top;\n",
       "    }\n",
       "\n",
       "    .dataframe thead th {\n",
       "        text-align: right;\n",
       "    }\n",
       "</style>\n",
       "<table border=\"1\" class=\"dataframe\">\n",
       "  <thead>\n",
       "    <tr style=\"text-align: right;\">\n",
       "      <th></th>\n",
       "      <th>ArticleId</th>\n",
       "      <th>Text</th>\n",
       "      <th>Category</th>\n",
       "    </tr>\n",
       "  </thead>\n",
       "  <tbody>\n",
       "    <tr>\n",
       "      <th>0</th>\n",
       "      <td>1833</td>\n",
       "      <td>worldcom ex-boss launches defence lawyers defe...</td>\n",
       "      <td>business</td>\n",
       "    </tr>\n",
       "    <tr>\n",
       "      <th>1</th>\n",
       "      <td>154</td>\n",
       "      <td>german business confidence slides german busin...</td>\n",
       "      <td>business</td>\n",
       "    </tr>\n",
       "    <tr>\n",
       "      <th>2</th>\n",
       "      <td>1101</td>\n",
       "      <td>bbc poll indicates economic gloom citizens in ...</td>\n",
       "      <td>business</td>\n",
       "    </tr>\n",
       "    <tr>\n",
       "      <th>3</th>\n",
       "      <td>1976</td>\n",
       "      <td>lifestyle  governs mobile choice  faster  bett...</td>\n",
       "      <td>tech</td>\n",
       "    </tr>\n",
       "    <tr>\n",
       "      <th>4</th>\n",
       "      <td>917</td>\n",
       "      <td>enron bosses in $168m payout eighteen former e...</td>\n",
       "      <td>business</td>\n",
       "    </tr>\n",
       "  </tbody>\n",
       "</table>\n",
       "</div>"
      ],
      "text/plain": [
       "   ArticleId                                               Text  Category\n",
       "0       1833  worldcom ex-boss launches defence lawyers defe...  business\n",
       "1        154  german business confidence slides german busin...  business\n",
       "2       1101  bbc poll indicates economic gloom citizens in ...  business\n",
       "3       1976  lifestyle  governs mobile choice  faster  bett...      tech\n",
       "4        917  enron bosses in $168m payout eighteen former e...  business"
      ]
     },
     "execution_count": 5,
     "metadata": {},
     "output_type": "execute_result"
    }
   ],
   "source": [
    "df.head(5)"
   ]
  },
  {
   "cell_type": "code",
   "execution_count": 6,
   "id": "142946c6-e677-473f-a236-b1056c17282e",
   "metadata": {
    "slideshow": {
     "slide_type": "subslide"
    },
    "tags": []
   },
   "outputs": [
    {
     "data": {
      "text/plain": [
       "<Axes: xlabel='Category'>"
      ]
     },
     "execution_count": 6,
     "metadata": {},
     "output_type": "execute_result"
    },
    {
     "data": {
      "image/png": "[encoded data removed]",
      "text/plain": [
       "<Figure size 640x480 with 1 Axes>"
      ]
     },
     "metadata": {},
     "output_type": "display_data"
    }
   ],
   "source": [
    "df.groupby(\"Category\").size().plot.bar()"
   ]
  },
  {
   "cell_type": "markdown",
   "id": "57b2c784-c16c-4269-ba8f-c9aa35898896",
   "metadata": {
    "slideshow": {
     "slide_type": "slide"
    },
    "tags": []
   },
   "source": [
    "## Preparing the building blocks: starting from the tokenizer"
   ]
  },
  {
   "cell_type": "code",
   "execution_count": 7,
   "id": "e9b75399-522a-4ed2-ab5a-47bc4e439617",
   "metadata": {
    "slideshow": {
     "slide_type": ""
    },
    "tags": []
   },
   "outputs": [],
   "source": [
    "tokenizer = GPT2Tokenizer.from_pretrained('gpt2')"
   ]
  },
  {
   "cell_type": "code",
   "execution_count": 9,
   "id": "869607bf-ccc9-4087-becb-b16bcf3c464d",
   "metadata": {
    "slideshow": {
     "slide_type": ""
    },
    "tags": []
   },
   "outputs": [],
   "source": [
    "tokenizer.padding_side = \"left\"\n",
    "tokenizer.pad_token = tokenizer.eos_token"
   ]
  },
  {
   "cell_type": "markdown",
   "id": "e652f565-6f27-4a0c-8896-357121101592",
   "metadata": {},
   "source": [
    "### Obs: Some models are trained with left or right padding, in this case our model is trained with left padding, but other models and even trained in other languages a right padded model might be prefeered."
   ]
  },
  {
   "cell_type": "markdown",
   "id": "5100b99b-83b6-4ba8-b39a-ed211b66bb7c",
   "metadata": {
    "slideshow": {
     "slide_type": "slide"
    },
    "tags": []
   },
   "source": [
    "## Encoding a sentence"
   ]
  },
  {
   "cell_type": "code",
   "execution_count": 10,
   "id": "84897eb4-d92b-4e20-8617-7c4eefaa2742",
   "metadata": {},
   "outputs": [],
   "source": [
    "example_text = \"i don't like sand it's coarse and rough and gets everywhere\""
   ]
  },
  {
   "cell_type": "code",
   "execution_count": 11,
   "id": "fee16b85-4c95-47e0-ac7a-49c3954b0069",
   "metadata": {
    "slideshow": {
     "slide_type": ""
    },
    "tags": []
   },
   "outputs": [],
   "source": [
    "gpt2_input = tokenizer(example_text, padding=\"max_length\", max_length=20, truncation=True, return_tensors=\"pt\")"
   ]
  },
  {
   "cell_type": "code",
   "execution_count": 12,
   "id": "88363dd1-536f-40f9-8892-b3053393c2c2",
   "metadata": {},
   "outputs": [
    {
     "data": {
      "text/plain": [
       "{'input_ids': tensor([[50256, 50256, 50256, 50256, 50256, 50256, 50256,    72,   836,   470,\n",
       "           588,  6450,   340,   338, 36076,   290,  5210,   290,  3011,  8347]]), 'attention_mask': tensor([[0, 0, 0, 0, 0, 0, 0, 1, 1, 1, 1, 1, 1, 1, 1, 1, 1, 1, 1, 1]])}"
      ]
     },
     "execution_count": 12,
     "metadata": {},
     "output_type": "execute_result"
    }
   ],
   "source": [
    "gpt2_input"
   ]
  },
  {
   "cell_type": "markdown",
   "id": "3b09ef47-7ea8-4473-ac03-4608c515a126",
   "metadata": {
    "slideshow": {
     "slide_type": "slide"
    },
    "tags": []
   },
   "source": [
    "## Decoding "
   ]
  },
  {
   "cell_type": "code",
   "execution_count": 13,
   "id": "df2b5360-0076-4cdd-9273-3ef72bc37654",
   "metadata": {},
   "outputs": [
    {
     "name": "stdout",
     "output_type": "stream",
     "text": [
      "<|endoftext|><|endoftext|><|endoftext|><|endoftext|><|endoftext|><|endoftext|><|endoftext|>i don't like sand it's coarse and rough and gets everywhere\n"
     ]
    }
   ],
   "source": [
    "example_text = tokenizer.decode(gpt2_input.input_ids[0])\n",
    "print(example_text)"
   ]
  },
  {
   "cell_type": "markdown",
   "id": "4972cc8d-f86f-489d-8e72-eabc18d939f4",
   "metadata": {
    "slideshow": {
     "slide_type": "slide"
    },
    "tags": []
   },
   "source": [
    "## Wrapping our tokenizer"
   ]
  },
  {
   "cell_type": "code",
   "execution_count": 14,
   "id": "0624a1d3-d4b0-4a91-adbe-6e13a622e8b4",
   "metadata": {},
   "outputs": [],
   "source": [
    "tokenizer = GPT2Tokenizer.from_pretrained('gpt2')\n",
    "tokenizer.padding_side = \"left\"\n",
    "tokenizer.pad_token = tokenizer.eos_token\n",
    "labels = {\n",
    "    \"business\": 0,\n",
    "    \"entertainment\": 1,\n",
    "    \"sport\": 2,\n",
    "    \"tech\": 3,\n",
    "    \"politics\": 4\n",
    "         }"
   ]
  },
  {
   "cell_type": "markdown",
   "id": "b50ab466-a205-4d4e-afca-488d5704627a",
   "metadata": {
    "slideshow": {
     "slide_type": "slide"
    },
    "tags": []
   },
   "source": [
    "## Building a dataset\n",
    "\n",
    "Usually when using pytorch we create a dataset object which expose the data to our model to be trained, is a simple class that nowadays are automagically built by some wrappers, like we did with ultralytics, or we can build our own custom dataset, we just need to implement a __class__ that contains the following 3 methods:\n",
    "\n",
    "- ``__init__`` : to kick start our dataset object when its called, We initialize the dataframe containing the __features__ and __targets__ of our dataset\n",
    "\n",
    "- ``__len__``: to returns the number of samples in our dataset.\n",
    "\n",
    "and \n",
    "\n",
    "- ``__getitem__``: to loads and returns a sample from the dataset at the given index idx"
   ]
  },
  {
   "cell_type": "code",
   "execution_count": 15,
   "id": "3a3963d1-84e7-45c6-8bc1-cca09c7762ef",
   "metadata": {
    "slideshow": {
     "slide_type": "subslide"
    },
    "tags": []
   },
   "outputs": [],
   "source": [
    "class Dataset(torch.utils.data.Dataset):\n",
    "    def __init__(self, df):\n",
    "        self.labels = [labels[label] for label in df['Category']]\n",
    "        self.texts = [tokenizer(text,\n",
    "                                padding='max_length',\n",
    "                                max_length=128,\n",
    "                                truncation=True,\n",
    "                                return_tensors=\"pt\") for text in df['Text']]\n",
    "        \n",
    "    def classes(self):\n",
    "        return self.labels\n",
    "    \n",
    "    def __len__(self):\n",
    "        return len(self.labels)\n",
    "    \n",
    "    def get_batch_labels(self, idx):\n",
    "        # Get a batch of labels\n",
    "        return np.array(self.labels[idx])\n",
    "    \n",
    "    def get_batch_texts(self, idx):\n",
    "        # Get a batch of inputs\n",
    "        return self.texts[idx]\n",
    "    \n",
    "    def __getitem__(self, idx):\n",
    "        batch_texts = self.get_batch_texts(idx)\n",
    "        batch_y = self.get_batch_labels(idx)\n",
    "        return batch_texts, batch_y"
   ]
  },
  {
   "cell_type": "code",
   "execution_count": 16,
   "id": "d8e3b7b6-37c5-4068-9e0d-4486632d1962",
   "metadata": {
    "slideshow": {
     "slide_type": "subslide"
    },
    "tags": []
   },
   "outputs": [
    {
     "name": "stdout",
     "output_type": "stream",
     "text": [
      "1192 149 149\n"
     ]
    },
    {
     "name": "stderr",
     "output_type": "stream",
     "text": [
      "/opt/conda/lib/python3.10/site-packages/numpy/core/fromnumeric.py:59: FutureWarning: 'DataFrame.swapaxes' is deprecated and will be removed in a future version. Please use 'DataFrame.transpose' instead.\n",
      "  return bound(*args, **kwds)\n"
     ]
    }
   ],
   "source": [
    "np.random.seed(42)\n",
    "df_train, df_val, df_test = np.split(df.sample(frac=1, random_state=35),\n",
    "                                     [int(0.8*len(df)), int(0.9*len(df))])\n",
    "\n",
    "print(len(df_train), len(df_val), len(df_test))"
   ]
  },
  {
   "cell_type": "markdown",
   "id": "831cb9db-b2f8-43af-9ed6-9b7d93dc12db",
   "metadata": {
    "slideshow": {
     "slide_type": "slide"
    },
    "tags": []
   },
   "source": [
    "## Building our model\n",
    "\n",
    "For our task we need to modify a little bit the original gpt-2 model, luck for us that is not a diffucult task. We just need first load the original model by doing:\n",
    "\n",
    "``GPT2Model.from_pretrained(gpt_model_name)``\n",
    "\n",
    "and latter we create a classification head using a dense layer where we pass the final tensors from the gpt-2 model and outputs the logits for each one of the categories"
   ]
  },
  {
   "cell_type": "code",
   "execution_count": 18,
   "id": "b451bbad-a15e-43f0-8fae-0a71b17d0428",
   "metadata": {
    "slideshow": {
     "slide_type": "skip"
    },
    "tags": []
   },
   "outputs": [
    {
     "data": {
      "text/plain": [
       "\u001b[0;31mInit signature:\u001b[0m\n",
       " \u001b[0mnn\u001b[0m\u001b[0;34m.\u001b[0m\u001b[0mLinear\u001b[0m\u001b[0;34m(\u001b[0m\u001b[0;34m\u001b[0m\n",
       "\u001b[0;34m\u001b[0m    \u001b[0min_features\u001b[0m\u001b[0;34m:\u001b[0m \u001b[0mint\u001b[0m\u001b[0;34m,\u001b[0m\u001b[0;34m\u001b[0m\n",
       "\u001b[0;34m\u001b[0m    \u001b[0mout_features\u001b[0m\u001b[0;34m:\u001b[0m \u001b[0mint\u001b[0m\u001b[0;34m,\u001b[0m\u001b[0;34m\u001b[0m\n",
       "\u001b[0;34m\u001b[0m    \u001b[0mbias\u001b[0m\u001b[0;34m:\u001b[0m \u001b[0mbool\u001b[0m \u001b[0;34m=\u001b[0m \u001b[0;32mTrue\u001b[0m\u001b[0;34m,\u001b[0m\u001b[0;34m\u001b[0m\n",
       "\u001b[0;34m\u001b[0m    \u001b[0mdevice\u001b[0m\u001b[0;34m=\u001b[0m\u001b[0;32mNone\u001b[0m\u001b[0;34m,\u001b[0m\u001b[0;34m\u001b[0m\n",
       "\u001b[0;34m\u001b[0m    \u001b[0mdtype\u001b[0m\u001b[0;34m=\u001b[0m\u001b[0;32mNone\u001b[0m\u001b[0;34m,\u001b[0m\u001b[0;34m\u001b[0m\n",
       "\u001b[0;34m\u001b[0m\u001b[0;34m)\u001b[0m \u001b[0;34m->\u001b[0m \u001b[0;32mNone\u001b[0m\u001b[0;34m\u001b[0m\u001b[0;34m\u001b[0m\u001b[0m\n",
       "\u001b[0;31mDocstring:\u001b[0m     \n",
       "Applies a linear transformation to the incoming data: :math:`y = xA^T + b`\n",
       "\n",
       "This module supports :ref:`TensorFloat32<tf32_on_ampere>`.\n",
       "\n",
       "On certain ROCm devices, when using float16 inputs this module will use :ref:`different precision<fp16_on_mi200>` for backward.\n",
       "\n",
       "Args:\n",
       "    in_features: size of each input sample\n",
       "    out_features: size of each output sample\n",
       "    bias: If set to ``False``, the layer will not learn an additive bias.\n",
       "        Default: ``True``\n",
       "\n",
       "Shape:\n",
       "    - Input: :math:`(*, H_{in})` where :math:`*` means any number of\n",
       "      dimensions including none and :math:`H_{in} = \\text{in\\_features}`.\n",
       "    - Output: :math:`(*, H_{out})` where all but the last dimension\n",
       "      are the same shape as the input and :math:`H_{out} = \\text{out\\_features}`.\n",
       "\n",
       "Attributes:\n",
       "    weight: the learnable weights of the module of shape\n",
       "        :math:`(\\text{out\\_features}, \\text{in\\_features})`. The values are\n",
       "        initialized from :math:`\\mathcal{U}(-\\sqrt{k}, \\sqrt{k})`, where\n",
       "        :math:`k = \\frac{1}{\\text{in\\_features}}`\n",
       "    bias:   the learnable bias of the module of shape :math:`(\\text{out\\_features})`.\n",
       "            If :attr:`bias` is ``True``, the values are initialized from\n",
       "            :math:`\\mathcal{U}(-\\sqrt{k}, \\sqrt{k})` where\n",
       "            :math:`k = \\frac{1}{\\text{in\\_features}}`\n",
       "\n",
       "Examples::\n",
       "\n",
       "    >>> m = nn.Linear(20, 30)\n",
       "    >>> input = torch.randn(128, 20)\n",
       "    >>> output = m(input)\n",
       "    >>> print(output.size())\n",
       "    torch.Size([128, 30])\n",
       "\u001b[0;31mInit docstring:\u001b[0m Initializes internal Module state, shared by both nn.Module and ScriptModule.\n",
       "\u001b[0;31mFile:\u001b[0m           /opt/conda/lib/python3.10/site-packages/torch/nn/modules/linear.py\n",
       "\u001b[0;31mType:\u001b[0m           type\n",
       "\u001b[0;31mSubclasses:\u001b[0m     NonDynamicallyQuantizableLinear, LazyLinear, Linear, LinearBn1d, Linear"
      ]
     },
     "metadata": {},
     "output_type": "display_data"
    }
   ],
   "source": [
    "? nn.Linear"
   ]
  },
  {
   "cell_type": "code",
   "execution_count": 19,
   "id": "d5681a28-2b42-4480-9265-0525d0093b62",
   "metadata": {
    "slideshow": {
     "slide_type": "subslide"
    },
    "tags": []
   },
   "outputs": [],
   "source": [
    "class SimpleGPT2SequenceClassifier(nn.Module):\n",
    "    def __init__(self, hidden_size: int, num_classes:int ,max_seq_len:int, gpt_model_name:str):\n",
    "        super(SimpleGPT2SequenceClassifier,self).__init__()\n",
    "        self.gpt2model = GPT2Model.from_pretrained(gpt_model_name)\n",
    "        self.fc1 = nn.Linear(hidden_size*max_seq_len, num_classes)\n",
    "\n",
    "    def forward(self, input_id, mask):\n",
    "        \"\"\"\n",
    "        Args:\n",
    "                input_id: encoded inputs ids of sent.\n",
    "        \"\"\"\n",
    "        gpt_out, _ = self.gpt2model(input_ids=input_id, attention_mask=mask, return_dict=False)\n",
    "        batch_size = gpt_out.shape[0]\n",
    "        linear_output = self.fc1(gpt_out.view(batch_size,-1))\n",
    "        return linear_output"
   ]
  },
  {
   "cell_type": "markdown",
   "id": "b13c4b96-2286-4b26-bc72-3c131f28f0d0",
   "metadata": {
    "slideshow": {
     "slide_type": "subslide"
    },
    "tags": []
   },
   "source": [
    "## Obs**\n",
    "\n",
    "One very common mistake while we re-using models is the dimension shapes of the inputs and outputs, a tip for this problem is to use as best as you can the ``view``, ``reshape`` and other reshape functions that manipulate the tensors. Just keep in mind that some of these functions create new copies of the tensors, which can put a price on memory space and overheads."
   ]
  },
  {
   "cell_type": "markdown",
   "id": "0a75d2c3-b8a6-4dd4-b228-50299ea1fec9",
   "metadata": {
    "slideshow": {
     "slide_type": "slide"
    },
    "tags": []
   },
   "source": [
    "## The training and test loops"
   ]
  },
  {
   "cell_type": "code",
   "execution_count": 20,
   "id": "ab90958c-05c3-403b-8d21-c003ed853d77",
   "metadata": {
    "slideshow": {
     "slide_type": ""
    },
    "tags": []
   },
   "outputs": [],
   "source": [
    "def train(model, train_data, val_data, learning_rate, epochs):\n",
    "    train, val = Dataset(train_data), Dataset(val_data)\n",
    "    \n",
    "    train_dataloader = torch.utils.data.DataLoader(train, batch_size=2, shuffle=True)\n",
    "    val_dataloader = torch.utils.data.DataLoader(val, batch_size=2)\n",
    "    \n",
    "    use_cuda = torch.cuda.is_available()\n",
    "    device = torch.device(\"cuda\" if use_cuda else \"cpu\")\n",
    "    \n",
    "    criterion = nn.CrossEntropyLoss()\n",
    "    optimizer = Adam(model.parameters(), lr=learning_rate)\n",
    "    \n",
    "    if use_cuda:\n",
    "        model = model.cuda()\n",
    "        criterion = criterion.cuda()\n",
    "\n",
    "    for epoch_num in range(epochs):\n",
    "        total_acc_train = 0\n",
    "        total_loss_train = 0\n",
    "        \n",
    "        for train_input, train_label in tqdm(train_dataloader):\n",
    "            train_label = train_label.to(device)\n",
    "            mask = train_input['attention_mask'].to(device)\n",
    "            input_id = train_input[\"input_ids\"].squeeze(1).to(device)\n",
    "            \n",
    "            model.zero_grad()\n",
    "\n",
    "            output = model(input_id, mask)\n",
    "            \n",
    "            batch_loss = criterion(output, train_label)\n",
    "            total_loss_train += batch_loss.item()\n",
    "            \n",
    "            acc = (output.argmax(dim=1)==train_label).sum().item()\n",
    "            total_acc_train += acc\n",
    "\n",
    "            batch_loss.backward()\n",
    "            optimizer.step()\n",
    "            \n",
    "        total_acc_val = 0\n",
    "        total_loss_val = 0\n",
    "        \n",
    "        with torch.no_grad():\n",
    "            \n",
    "            for val_input, val_label in val_dataloader:\n",
    "                val_label = val_label.to(device)\n",
    "                mask = val_input['attention_mask'].to(device)\n",
    "                input_id = val_input['input_ids'].squeeze(1).to(device)\n",
    "                \n",
    "                output = model(input_id, mask)\n",
    "                \n",
    "                batch_loss = criterion(output, val_label)\n",
    "                total_loss_val += batch_loss.item()\n",
    "                \n",
    "                acc = (output.argmax(dim=1)==val_label).sum().item()\n",
    "                total_acc_val += acc\n",
    "                \n",
    "            print(\n",
    "            f\"Epochs: {epoch_num + 1} | Train Loss: {total_loss_train/len(train_data): .3f} \\\n",
    "            | Train Accuracy: {total_acc_train / len(train_data): .3f} \\\n",
    "            | Val Loss: {total_loss_val / len(val_data): .3f} \\\n",
    "            | Val Accuracy: {total_acc_val / len(val_data): .3f}\")"
   ]
  },
  {
   "cell_type": "code",
   "execution_count": 21,
   "id": "11aa38be-73ae-4a43-b11e-a30241bd5be6",
   "metadata": {
    "slideshow": {
     "slide_type": "slide"
    },
    "tags": []
   },
   "outputs": [],
   "source": [
    "            \n",
    "EPOCHS = 3\n",
    "model = SimpleGPT2SequenceClassifier(hidden_size=768, num_classes=5, max_seq_len=128, gpt_model_name=\"gpt2\")\n",
    "LR = 1e-5\n"
   ]
  },
  {
   "cell_type": "code",
   "execution_count": 22,
   "id": "88254d3d-c6b1-4b2d-8218-ee4630039c1d",
   "metadata": {},
   "outputs": [
    {
     "name": "stderr",
     "output_type": "stream",
     "text": [
      "100%|██████████| 596/596 [00:50<00:00, 11.87it/s]\n"
     ]
    },
    {
     "name": "stdout",
     "output_type": "stream",
     "text": [
      "Epochs: 1 | Train Loss:  0.302             | Train Accuracy:  0.794             | Val Loss:  0.207             | Val Accuracy:  0.899\n"
     ]
    },
    {
     "name": "stderr",
     "output_type": "stream",
     "text": [
      "100%|██████████| 596/596 [00:50<00:00, 11.85it/s]\n"
     ]
    },
    {
     "name": "stdout",
     "output_type": "stream",
     "text": [
      "Epochs: 2 | Train Loss:  0.038             | Train Accuracy:  0.975             | Val Loss:  0.099             | Val Accuracy:  0.953\n"
     ]
    },
    {
     "name": "stderr",
     "output_type": "stream",
     "text": [
      "100%|██████████| 596/596 [00:50<00:00, 11.81it/s]\n"
     ]
    },
    {
     "name": "stdout",
     "output_type": "stream",
     "text": [
      "Epochs: 3 | Train Loss:  0.008             | Train Accuracy:  0.996             | Val Loss:  0.125             | Val Accuracy:  0.960\n"
     ]
    }
   ],
   "source": [
    "train(model, df_train, df_val, LR, EPOCHS)"
   ]
  },
  {
   "cell_type": "code",
   "execution_count": 23,
   "id": "f070bf93-481c-46fa-b788-ba456e7e64f0",
   "metadata": {
    "slideshow": {
     "slide_type": "slide"
    },
    "tags": []
   },
   "outputs": [],
   "source": [
    "def evaluate(model, test_data):\n",
    "\n",
    "    test = Dataset(test_data)\n",
    "\n",
    "    test_dataloader = torch.utils.data.DataLoader(test, batch_size=2)\n",
    "\n",
    "    use_cuda = torch.cuda.is_available()\n",
    "    device = torch.device(\"cuda\" if use_cuda else \"cpu\")\n",
    "\n",
    "    if use_cuda:\n",
    "\n",
    "        model = model.cuda()\n",
    "\n",
    "        \n",
    "    # Tracking variables\n",
    "    predictions_labels = []\n",
    "    true_labels = []\n",
    "    \n",
    "    total_acc_test = 0\n",
    "    with torch.no_grad():\n",
    "\n",
    "        for test_input, test_label in test_dataloader:\n",
    "\n",
    "            test_label = test_label.to(device)\n",
    "            mask = test_input['attention_mask'].to(device)\n",
    "            input_id = test_input['input_ids'].squeeze(1).to(device)\n",
    "\n",
    "            output = model(input_id, mask)\n",
    "\n",
    "            acc = (output.argmax(dim=1) == test_label).sum().item()\n",
    "            total_acc_test += acc\n",
    "            \n",
    "            # add original labels\n",
    "            true_labels += test_label.cpu().numpy().flatten().tolist()\n",
    "            # get predicitons to list\n",
    "            predictions_labels += output.argmax(dim=1).cpu().numpy().flatten().tolist()\n",
    "    \n",
    "    print(f'Test Accuracy: {total_acc_test / len(test_data): .3f}')\n",
    "    return true_labels, predictions_labels"
   ]
  },
  {
   "cell_type": "code",
   "execution_count": 24,
   "id": "cdc6805c-39d2-490f-8700-840d905ccd8d",
   "metadata": {
    "slideshow": {
     "slide_type": "slide"
    },
    "tags": []
   },
   "outputs": [
    {
     "name": "stdout",
     "output_type": "stream",
     "text": [
      "Test Accuracy:  0.987\n"
     ]
    }
   ],
   "source": [
    "true_labels, pred_labels = evaluate(model, df_test)"
   ]
  },
  {
   "cell_type": "code",
   "execution_count": 25,
   "id": "441df0ff-7b3b-4a2f-acce-707a82affe01",
   "metadata": {
    "slideshow": {
     "slide_type": ""
    },
    "tags": []
   },
   "outputs": [
    {
     "data": {
      "text/plain": [
       "<sklearn.metrics._plot.confusion_matrix.ConfusionMatrixDisplay at 0x7f32faab3e20>"
      ]
     },
     "execution_count": 25,
     "metadata": {},
     "output_type": "execute_result"
    },
    {
     "data": {
      "image/png": "[encoded data removed]",
      "text/plain": [
       "<Figure size 800x800 with 2 Axes>"
      ]
     },
     "metadata": {},
     "output_type": "display_data"
    }
   ],
   "source": [
    "# Plot confusion matrix.\n",
    "fig, ax = plt.subplots(figsize=(8, 8))\n",
    "cm = confusion_matrix(y_true=true_labels, y_pred=pred_labels, labels=range(len(labels)), normalize='true')\n",
    "disp = ConfusionMatrixDisplay(confusion_matrix=cm, display_labels=list(labels.keys()))\n",
    "disp.plot(ax=ax)"
   ]
  },
  {
   "cell_type": "code",
   "execution_count": null,
   "id": "af7b0c1b-16a1-4618-9e14-0025498a722c",
   "metadata": {},
   "outputs": [],
   "source": []
  }
 ],
 "metadata": {
  "celltoolbar": "Slideshow",
  "kernelspec": {
   "display_name": "Python 3 (ipykernel)",
   "language": "python",
   "name": "python3"
  },
  "language_info": {
   "codemirror_mode": {
    "name": "ipython",
    "version": 3
   },
   "file_extension": ".py",
   "mimetype": "text/x-python",
   "name": "python",
   "nbconvert_exporter": "python",
   "pygments_lexer": "ipython3",
   "version": "3.9.6"
  }
 },
 "nbformat": 4,
 "nbformat_minor": 5
}
